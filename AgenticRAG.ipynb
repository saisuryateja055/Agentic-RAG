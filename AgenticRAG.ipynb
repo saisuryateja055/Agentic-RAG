{
 "cells": [
  {
   "cell_type": "code",
   "execution_count": 5,
   "id": "1aea80da",
   "metadata": {},
   "outputs": [],
   "source": [
    "import os\n",
    "from dotenv import load_dotenv\n",
    "load_dotenv()\n",
    "\n",
    "os.environ[\"GROQ_API_KEY\"] = os.getenv(\"GROQ_API_KEY\")\n",
    "\n",
    "from langchain_community.document_loaders import WebBaseLoader\n",
    "from langchain_community.vectorstores import FAISS\n",
    "from langchain_community.embeddings import HuggingFaceEmbeddings\n",
    "from langchain_text_splitters import RecursiveCharacterTextSplitter\n",
    "from langchain.tools.retriever import create_retriever_tool\n",
    "from langchain_groq import ChatGroq\n",
    "from langchain_core.messages import BaseMessage, HumanMessage\n",
    "from langchain_core.output_parsers import StrOutputParser\n",
    "from langchain_core.prompts import PromptTemplate\n",
    "from langchain import hub\n",
    "from typing import Annotated, Sequence, Literal\n",
    "from typing_extensions import TypedDict\n",
    "from pydantic import BaseModel, Field"
   ]
  },
  {
   "cell_type": "code",
   "execution_count": 12,
   "id": "be09a881",
   "metadata": {},
   "outputs": [
    {
     "name": "stdout",
     "output_type": "stream",
     "text": [
      "---LOADING TOOL 1 DOCS---\n",
      "---LOADING TOOL 2 DOCS---\n"
     ]
    }
   ],
   "source": [
    "# --- Tool 1: Recent OpenAI Blog Posts ---\n",
    "print(\"---LOADING TOOL 1 DOCS---\")\n",
    "urls1 = [\n",
    "    \"https://openai.com/index/o3-o4-mini-system-card-addendum-operator-o3/\",\n",
    "    \"https://openai.com/index/emergent-misalignment/\"\n",
    "]\n",
    "docs1 = [WebBaseLoader(url).load() for url in urls1]\n",
    "docs_list1 = [item for sublist in docs1 for item in sublist]\n",
    "\n",
    "# --- Tool 2: Niche RAG/Framework Blogs ---\n",
    "print(\"---LOADING TOOL 2 DOCS---\")\n",
    "urls2 = [\n",
    "    \"https://langchain-ai.github.io/langgraph/concepts/why-langgraph/\",\n",
    "    \"https://langchain-ai.github.io/langgraph/tutorials/get-started/1-build-basic-chatbot/#2-create-a-stategraph\"\n",
    "]\n",
    "docs2 = [WebBaseLoader(url).load() for url in urls2]\n",
    "docs_list2 = [item for sublist in docs2 for item in sublist]"
   ]
  },
  {
   "cell_type": "code",
   "execution_count": 13,
   "id": "bd857a28",
   "metadata": {},
   "outputs": [],
   "source": [
    "splitter = RecursiveCharacterTextSplitter(chunk_size=1000, chunk_overlap=100)\n",
    "splits1 = splitter.split_documents(docs_list1)\n",
    "splits2 = splitter.split_documents(docs_list2)"
   ]
  },
  {
   "cell_type": "code",
   "execution_count": 8,
   "id": "2ce911bc",
   "metadata": {},
   "outputs": [
    {
     "name": "stderr",
     "output_type": "stream",
     "text": [
      "C:\\Users\\SAI SURYA TEJA\\AppData\\Local\\Temp\\ipykernel_13416\\2731752069.py:1: LangChainDeprecationWarning: The class `HuggingFaceEmbeddings` was deprecated in LangChain 0.2.2 and will be removed in 1.0. An updated version of the class exists in the :class:`~langchain-huggingface package and should be used instead. To use it run `pip install -U :class:`~langchain-huggingface` and import as `from :class:`~langchain_huggingface import HuggingFaceEmbeddings``.\n",
      "  embedding_model = HuggingFaceEmbeddings(model_name=\"BAAI/bge-base-en-v1.5\")\n",
      "c:\\Python312\\Lib\\site-packages\\tqdm\\auto.py:21: TqdmWarning: IProgress not found. Please update jupyter and ipywidgets. See https://ipywidgets.readthedocs.io/en/stable/user_install.html\n",
      "  from .autonotebook import tqdm as notebook_tqdm\n"
     ]
    }
   ],
   "source": [
    "\n",
    "embedding_model = HuggingFaceEmbeddings(model_name=\"BAAI/bge-base-en-v1.5\")"
   ]
  },
  {
   "cell_type": "code",
   "execution_count": 20,
   "id": "7d2ed744",
   "metadata": {},
   "outputs": [],
   "source": [
    "\n",
    "vectorstore1 = FAISS.from_documents(splits1, embedding_model)\n",
    "retriever1 = vectorstore1.as_retriever()\n",
    "retriever_tool_openai_blog = create_retriever_tool(\n",
    "    retriever1,\n",
    "    \"retriever_openai_blog\",\n",
    "    \"Search and run information from recent OpenAI blog posts\"\n",
    ")"
   ]
  },
  {
   "cell_type": "code",
   "execution_count": 21,
   "id": "41c3fc93",
   "metadata": {},
   "outputs": [],
   "source": [
    "\n",
    "\n",
    "vectorstore2 = FAISS.from_documents(splits2, embedding_model)\n",
    "retriever2 = vectorstore2.as_retriever()\n",
    "retriever_tool_rag = create_retriever_tool(\n",
    "    retriever2,\n",
    "    \"retriever_rag_blogs\",\n",
    "    \"Search and run information from recent RAG and LangGraph blogs\"\n",
    ")\n",
    "\n"
   ]
  },
  {
   "cell_type": "code",
   "execution_count": 26,
   "id": "727206f2",
   "metadata": {},
   "outputs": [],
   "source": [
    "tools = [retriever_tool_openai_blog, retriever_tool_rag]"
   ]
  },
  {
   "cell_type": "code",
   "execution_count": 22,
   "id": "e8a35497",
   "metadata": {},
   "outputs": [
    {
     "data": {
      "text/plain": [
       "'graph_builder = StateGraph(State)\\n\\nOur graph can now handle two key tasks:\\n\\nEach node can receive the current State as input and output an update to the state.\\nUpdates to messages will be appended to the existing list rather than overwriting it, thanks to the prebuilt add_messages function used with the Annotated syntax.\\n\\n\\n\\nConcept\\nWhen defining a graph, the first step is to define its State. The State includes the graph\\'s schema and reducer functions that handle state updates. In our example, State is a TypedDict with one key: messages. The add_messages reducer function is used to append new messages to the list instead of overwriting it. Keys without a reducer annotation will overwrite previous values. To learn more about state, reducers, and related concepts, see LangGraph reference docs.\\n\\n2. Create a StateGraph¶\\nNow you can create a basic chatbot using LangGraph. This chatbot will respond directly to user messages.\\nStart by creating a StateGraph. A StateGraph object defines the structure of our chatbot as a \"state machine\". We\\'ll add nodes to represent the llm and functions our chatbot can call and edges to specify how the bot should transition between these functions.\\nAPI Reference: StateGraph | START | END | add_messages\\nfrom typing import Annotated\\n\\nfrom typing_extensions import TypedDict\\n\\nfrom langgraph.graph import StateGraph, START, END\\nfrom langgraph.graph.message import add_messages\\n\\n\\nclass State(TypedDict):\\n    # Messages have the type \"list\". The `add_messages` function\\n    # in the annotation defines how this state key should be updated\\n    # (in this case, it appends messages to the list, rather than overwriting them)\\n    messages: Annotated[list, add_messages]\\n\\n\\ngraph_builder = StateGraph(State)\\n\\nOur graph can now handle two key tasks:\\n\\nAssistant: LangGraph is a library designed to help build stateful multi-agent applications using language models. It provides tools for creating workflows and state machines to coordinate multiple AI agents or language model interactions. LangGraph is built on top of LangChain, leveraging its components while adding graph-based coordination capabilities. It\\'s particularly useful for developing more complex, stateful AI applications that go beyond simple query-response interactions.\\nGoodbye!\\n\\nCongratulations! You\\'ve built your first chatbot using LangGraph. This bot can engage in basic conversation by taking user input and generating responses using an LLM. You can inspect a LangSmith Trace for the call above.\\nBelow is the full code for this tutorial:\\nAPI Reference: init_chat_model | StateGraph | START | END | add_messages\\nfrom typing import Annotated\\n\\nfrom langchain.chat_models import init_chat_model\\nfrom typing_extensions import TypedDict\\n\\nfrom langchain.chat_models import init_chat_model\\nfrom typing_extensions import TypedDict\\n\\nfrom langgraph.graph import StateGraph, START, END\\nfrom langgraph.graph.message import add_messages\\n\\n\\nclass State(TypedDict):\\n    messages: Annotated[list, add_messages]\\n\\n\\ngraph_builder = StateGraph(State)\\n\\n\\nllm = init_chat_model(\"anthropic:claude-3-5-sonnet-latest\")\\n\\n\\ndef chatbot(state: State):\\n    return {\"messages\": [llm.invoke(state[\"messages\"])]}\\n\\n\\n# The first argument is the unique node name\\n# The second argument is the function or object that will be called whenever\\n# the node is used.\\ngraph_builder.add_node(\"chatbot\", chatbot)\\ngraph_builder.add_edge(START, \"chatbot\")\\ngraph_builder.add_edge(\"chatbot\", END)\\ngraph = graph_builder.compile()\\n\\nNext steps¶\\nYou may have noticed that the bot\\'s knowledge is limited to what\\'s in its training data. In the next part, we\\'ll add a web search tool to expand the bot\\'s knowledge and make it more capable.\\n\\n\\n\\n\\n\\n\\n\\n  Back to top'"
      ]
     },
     "execution_count": 22,
     "metadata": {},
     "output_type": "execute_result"
    }
   ],
   "source": [
    "retriever_tool_rag.invoke(\"stategraph\")"
   ]
  },
  {
   "cell_type": "markdown",
   "id": "da3d23df",
   "metadata": {},
   "source": []
  },
  {
   "cell_type": "code",
   "execution_count": 27,
   "id": "43afc9c5",
   "metadata": {},
   "outputs": [],
   "source": [
    "class AgentState(TypedDict):\n",
    "    messages: Annotated[Sequence[BaseMessage], lambda x, y: x + y]\n",
    "\n",
    "def agent(state):\n",
    "    print(\"---CALL AGENT---\")\n",
    "    messages = state[\"messages\"]\n",
    "    model = ChatGroq(model=\"llama3-70b-8192\").bind_tools(tools)\n",
    "    response = model.invoke(messages)\n",
    "    return {\"messages\": [response]}\n",
    "\n",
    "def grade_documents(state) -> Literal[\"generate\", \"rewrite\"]:\n",
    "    print(\"---CHECK RELEVANCE---\")\n",
    "    class Grade(BaseModel):\n",
    "        binary_score: str = Field(description=\"Relevance score 'yes' or 'no'\")\n",
    "    model = ChatGroq(model=\"llama3-70b-8192\").with_structured_output(Grade)\n",
    "    prompt = PromptTemplate(\n",
    "        template=\"Is this document relevant to the question? Document: {context} Question: {question} Reply 'yes' or 'no'.\",\n",
    "        input_variables=[\"context\", \"question\"],\n",
    "    )\n",
    "    chain = prompt | model\n",
    "    messages = state[\"messages\"]\n",
    "    question = messages[0].content\n",
    "    docs = messages[-1].content\n",
    "    score = chain.invoke({\"question\": question, \"context\": docs}).binary_score\n",
    "    if score == \"yes\":\n",
    "        print(\"---DECISION: DOCS RELEVANT---\")\n",
    "        return \"generate\"\n",
    "    else:\n",
    "        print(\"---DECISION: DOCS NOT RELEVANT---\")\n",
    "        return \"rewrite\"\n",
    "\n",
    "def generate(state):\n",
    "    print(\"---GENERATE---\")\n",
    "    messages = state[\"messages\"]\n",
    "    question = messages[0].content\n",
    "    docs = messages[-1].content\n",
    "    prompt = hub.pull(\"rlm/rag-prompt\")\n",
    "    llm = ChatGroq(model=\"llama3-70b-8192\")\n",
    "    rag_chain = prompt | llm | StrOutputParser()\n",
    "    response = rag_chain.invoke({\"context\": docs, \"question\": question})\n",
    "    return {\"messages\": [response]}\n",
    "\n",
    "def rewrite(state):\n",
    "    print(\"---REWRITE---\")\n",
    "    messages = state[\"messages\"]\n",
    "    question = messages[0].content\n",
    "    msg = [HumanMessage(content=f\"Improve this question: {question}\")]\n",
    "    model = ChatGroq(model=\"llama3-70b-8192\")\n",
    "    response = model.invoke(msg)\n",
    "    return {\"messages\": [response]}"
   ]
  },
  {
   "cell_type": "code",
   "execution_count": 28,
   "id": "2e0d0d5f",
   "metadata": {},
   "outputs": [
    {
     "data": {
      "image/png": "[encoded data removed]",
      "text/plain": [
       "<IPython.core.display.Image object>"
      ]
     },
     "metadata": {},
     "output_type": "display_data"
    }
   ],
   "source": [
    "from langgraph.graph import END, StateGraph, START\n",
    "from langgraph.prebuilt import ToolNode, tools_condition\n",
    "\n",
    "workflow = StateGraph(AgentState)\n",
    "workflow.add_node(\"agent\", agent)\n",
    "retrieve = ToolNode(tools)\n",
    "workflow.add_node(\"retrieve\", retrieve)\n",
    "workflow.add_node(\"rewrite\", rewrite)\n",
    "workflow.add_node(\"generate\", generate)\n",
    "workflow.add_edge(START, \"agent\")\n",
    "workflow.add_conditional_edges(\"agent\", tools_condition, {\"tools\": \"retrieve\", END: END})\n",
    "workflow.add_conditional_edges(\"retrieve\", grade_documents)\n",
    "workflow.add_edge(\"generate\", END)\n",
    "workflow.add_edge(\"rewrite\", \"agent\")\n",
    "graph = workflow.compile()\n",
    "\n",
    "from IPython.display import Image, display\n",
    "display(Image(graph.get_graph(xray=True).draw_mermaid_png()))"
   ]
  },
  {
   "cell_type": "code",
   "execution_count": 29,
   "id": "f58e581e",
   "metadata": {},
   "outputs": [
    {
     "name": "stdout",
     "output_type": "stream",
     "text": [
      "\n",
      "---QUERY: Explain me the code for stategraph in LangGraph---\n",
      "---CALL AGENT---\n",
      "---CHECK RELEVANCE---\n",
      "---DECISION: DOCS RELEVANT---\n",
      "---GENERATE---\n"
     ]
    },
    {
     "name": "stderr",
     "output_type": "stream",
     "text": [
      "C:\\Users\\SAI SURYA TEJA\\AppData\\Roaming\\Python\\Python312\\site-packages\\langsmith\\client.py:272: LangSmithMissingAPIKeyWarning: API key must be provided when using hosted LangSmith API\n",
      "  warnings.warn(\n"
     ]
    },
    {
     "name": "stdout",
     "output_type": "stream",
     "text": [
      "RESPONSE: {'messages': [HumanMessage(content='Explain me the code for stategraph in LangGraph', additional_kwargs={}, response_metadata={}), AIMessage(content='', additional_kwargs={'tool_calls': [{'id': '7q8kafch1', 'function': {'arguments': '{\"query\":\"StateGraph LangGraph\"}', 'name': 'retriever_rag_blogs'}, 'type': 'function'}, {'id': '1ffxnq1gs', 'function': {'arguments': '{\"query\":\"StateGraph LangGraph\"}', 'name': 'retriever_rag_blogs'}, 'type': 'function'}, {'id': '951n4q1qd', 'function': {'arguments': '{\"query\":\"StateGraph LangGraph\"}', 'name': 'retriever_rag_blogs'}, 'type': 'function'}]}, response_metadata={'token_usage': {'completion_tokens': 240, 'prompt_tokens': 1027, 'total_tokens': 1267, 'completion_time': 0.732459364, 'prompt_time': 0.04126957, 'queue_time': 0.0573808, 'total_time': 0.773728934}, 'model_name': 'llama3-70b-8192', 'system_fingerprint': 'fp_dd4ae1c591', 'finish_reason': 'tool_calls', 'logprobs': None}, id='run--29f13bf6-ab9c-4114-807d-8a07e9553b47-0', tool_calls=[{'name': 'retriever_rag_blogs', 'args': {'query': 'StateGraph LangGraph'}, 'id': '7q8kafch1', 'type': 'tool_call'}, {'name': 'retriever_rag_blogs', 'args': {'query': 'StateGraph LangGraph'}, 'id': '1ffxnq1gs', 'type': 'tool_call'}, {'name': 'retriever_rag_blogs', 'args': {'query': 'StateGraph LangGraph'}, 'id': '951n4q1qd', 'type': 'tool_call'}], usage_metadata={'input_tokens': 1027, 'output_tokens': 240, 'total_tokens': 1267}), ToolMessage(content='Assistant: LangGraph is a library designed to help build stateful multi-agent applications using language models. It provides tools for creating workflows and state machines to coordinate multiple AI agents or language model interactions. LangGraph is built on top of LangChain, leveraging its components while adding graph-based coordination capabilities. It\\'s particularly useful for developing more complex, stateful AI applications that go beyond simple query-response interactions.\\nGoodbye!\\n\\nCongratulations! You\\'ve built your first chatbot using LangGraph. This bot can engage in basic conversation by taking user input and generating responses using an LLM. You can inspect a LangSmith Trace for the call above.\\nBelow is the full code for this tutorial:\\nAPI Reference: init_chat_model | StateGraph | START | END | add_messages\\nfrom typing import Annotated\\n\\nfrom langchain.chat_models import init_chat_model\\nfrom typing_extensions import TypedDict\\n\\nTable of contents\\n    \\n\\n\\n\\n\\n      Learn LangGraph basics\\n    \\n\\n\\n\\n\\n\\n\\n\\n\\n\\n\\n\\n\\n\\n\\nOverview¶\\nLangGraph is built for developers who want to build powerful, adaptable AI agents. Developers choose LangGraph for:\\n\\nReliability and controllability. Steer agent actions with moderation checks and human-in-the-loop approvals. LangGraph persists context for long-running workflows, keeping your agents on course.\\nLow-level and extensible. Build custom agents with fully descriptive, low-level primitives free from rigid abstractions that limit customization. Design scalable multi-agent systems, with each agent serving a specific role tailored to your use case.\\nFirst-class streaming support. With token-by-token streaming and streaming of intermediate steps, LangGraph gives users clear visibility into agent reasoning and actions as they unfold in real time.\\n\\ngraph_builder = StateGraph(State)\\n\\nOur graph can now handle two key tasks:\\n\\nEach node can receive the current State as input and output an update to the state.\\nUpdates to messages will be appended to the existing list rather than overwriting it, thanks to the prebuilt add_messages function used with the Annotated syntax.\\n\\n\\n\\nConcept\\nWhen defining a graph, the first step is to define its State. The State includes the graph\\'s schema and reducer functions that handle state updates. In our example, State is a TypedDict with one key: messages. The add_messages reducer function is used to append new messages to the list instead of overwriting it. Keys without a reducer annotation will overwrite previous values. To learn more about state, reducers, and related concepts, see LangGraph reference docs.\\n\\n2. Create a StateGraph¶\\nNow you can create a basic chatbot using LangGraph. This chatbot will respond directly to user messages.\\nStart by creating a StateGraph. A StateGraph object defines the structure of our chatbot as a \"state machine\". We\\'ll add nodes to represent the llm and functions our chatbot can call and edges to specify how the bot should transition between these functions.\\nAPI Reference: StateGraph | START | END | add_messages\\nfrom typing import Annotated\\n\\nfrom typing_extensions import TypedDict\\n\\nfrom langgraph.graph import StateGraph, START, END\\nfrom langgraph.graph.message import add_messages\\n\\n\\nclass State(TypedDict):\\n    # Messages have the type \"list\". The `add_messages` function\\n    # in the annotation defines how this state key should be updated\\n    # (in this case, it appends messages to the list, rather than overwriting them)\\n    messages: Annotated[list, add_messages]\\n\\n\\ngraph_builder = StateGraph(State)\\n\\nOur graph can now handle two key tasks:', name='retriever_rag_blogs', tool_call_id='7q8kafch1'), ToolMessage(content='Assistant: LangGraph is a library designed to help build stateful multi-agent applications using language models. It provides tools for creating workflows and state machines to coordinate multiple AI agents or language model interactions. LangGraph is built on top of LangChain, leveraging its components while adding graph-based coordination capabilities. It\\'s particularly useful for developing more complex, stateful AI applications that go beyond simple query-response interactions.\\nGoodbye!\\n\\nCongratulations! You\\'ve built your first chatbot using LangGraph. This bot can engage in basic conversation by taking user input and generating responses using an LLM. You can inspect a LangSmith Trace for the call above.\\nBelow is the full code for this tutorial:\\nAPI Reference: init_chat_model | StateGraph | START | END | add_messages\\nfrom typing import Annotated\\n\\nfrom langchain.chat_models import init_chat_model\\nfrom typing_extensions import TypedDict\\n\\nTable of contents\\n    \\n\\n\\n\\n\\n      Learn LangGraph basics\\n    \\n\\n\\n\\n\\n\\n\\n\\n\\n\\n\\n\\n\\n\\n\\nOverview¶\\nLangGraph is built for developers who want to build powerful, adaptable AI agents. Developers choose LangGraph for:\\n\\nReliability and controllability. Steer agent actions with moderation checks and human-in-the-loop approvals. LangGraph persists context for long-running workflows, keeping your agents on course.\\nLow-level and extensible. Build custom agents with fully descriptive, low-level primitives free from rigid abstractions that limit customization. Design scalable multi-agent systems, with each agent serving a specific role tailored to your use case.\\nFirst-class streaming support. With token-by-token streaming and streaming of intermediate steps, LangGraph gives users clear visibility into agent reasoning and actions as they unfold in real time.\\n\\ngraph_builder = StateGraph(State)\\n\\nOur graph can now handle two key tasks:\\n\\nEach node can receive the current State as input and output an update to the state.\\nUpdates to messages will be appended to the existing list rather than overwriting it, thanks to the prebuilt add_messages function used with the Annotated syntax.\\n\\n\\n\\nConcept\\nWhen defining a graph, the first step is to define its State. The State includes the graph\\'s schema and reducer functions that handle state updates. In our example, State is a TypedDict with one key: messages. The add_messages reducer function is used to append new messages to the list instead of overwriting it. Keys without a reducer annotation will overwrite previous values. To learn more about state, reducers, and related concepts, see LangGraph reference docs.\\n\\n2. Create a StateGraph¶\\nNow you can create a basic chatbot using LangGraph. This chatbot will respond directly to user messages.\\nStart by creating a StateGraph. A StateGraph object defines the structure of our chatbot as a \"state machine\". We\\'ll add nodes to represent the llm and functions our chatbot can call and edges to specify how the bot should transition between these functions.\\nAPI Reference: StateGraph | START | END | add_messages\\nfrom typing import Annotated\\n\\nfrom typing_extensions import TypedDict\\n\\nfrom langgraph.graph import StateGraph, START, END\\nfrom langgraph.graph.message import add_messages\\n\\n\\nclass State(TypedDict):\\n    # Messages have the type \"list\". The `add_messages` function\\n    # in the annotation defines how this state key should be updated\\n    # (in this case, it appends messages to the list, rather than overwriting them)\\n    messages: Annotated[list, add_messages]\\n\\n\\ngraph_builder = StateGraph(State)\\n\\nOur graph can now handle two key tasks:', name='retriever_rag_blogs', tool_call_id='1ffxnq1gs'), ToolMessage(content='Assistant: LangGraph is a library designed to help build stateful multi-agent applications using language models. It provides tools for creating workflows and state machines to coordinate multiple AI agents or language model interactions. LangGraph is built on top of LangChain, leveraging its components while adding graph-based coordination capabilities. It\\'s particularly useful for developing more complex, stateful AI applications that go beyond simple query-response interactions.\\nGoodbye!\\n\\nCongratulations! You\\'ve built your first chatbot using LangGraph. This bot can engage in basic conversation by taking user input and generating responses using an LLM. You can inspect a LangSmith Trace for the call above.\\nBelow is the full code for this tutorial:\\nAPI Reference: init_chat_model | StateGraph | START | END | add_messages\\nfrom typing import Annotated\\n\\nfrom langchain.chat_models import init_chat_model\\nfrom typing_extensions import TypedDict\\n\\nTable of contents\\n    \\n\\n\\n\\n\\n      Learn LangGraph basics\\n    \\n\\n\\n\\n\\n\\n\\n\\n\\n\\n\\n\\n\\n\\n\\nOverview¶\\nLangGraph is built for developers who want to build powerful, adaptable AI agents. Developers choose LangGraph for:\\n\\nReliability and controllability. Steer agent actions with moderation checks and human-in-the-loop approvals. LangGraph persists context for long-running workflows, keeping your agents on course.\\nLow-level and extensible. Build custom agents with fully descriptive, low-level primitives free from rigid abstractions that limit customization. Design scalable multi-agent systems, with each agent serving a specific role tailored to your use case.\\nFirst-class streaming support. With token-by-token streaming and streaming of intermediate steps, LangGraph gives users clear visibility into agent reasoning and actions as they unfold in real time.\\n\\ngraph_builder = StateGraph(State)\\n\\nOur graph can now handle two key tasks:\\n\\nEach node can receive the current State as input and output an update to the state.\\nUpdates to messages will be appended to the existing list rather than overwriting it, thanks to the prebuilt add_messages function used with the Annotated syntax.\\n\\n\\n\\nConcept\\nWhen defining a graph, the first step is to define its State. The State includes the graph\\'s schema and reducer functions that handle state updates. In our example, State is a TypedDict with one key: messages. The add_messages reducer function is used to append new messages to the list instead of overwriting it. Keys without a reducer annotation will overwrite previous values. To learn more about state, reducers, and related concepts, see LangGraph reference docs.\\n\\n2. Create a StateGraph¶\\nNow you can create a basic chatbot using LangGraph. This chatbot will respond directly to user messages.\\nStart by creating a StateGraph. A StateGraph object defines the structure of our chatbot as a \"state machine\". We\\'ll add nodes to represent the llm and functions our chatbot can call and edges to specify how the bot should transition between these functions.\\nAPI Reference: StateGraph | START | END | add_messages\\nfrom typing import Annotated\\n\\nfrom typing_extensions import TypedDict\\n\\nfrom langgraph.graph import StateGraph, START, END\\nfrom langgraph.graph.message import add_messages\\n\\n\\nclass State(TypedDict):\\n    # Messages have the type \"list\". The `add_messages` function\\n    # in the annotation defines how this state key should be updated\\n    # (in this case, it appends messages to the list, rather than overwriting them)\\n    messages: Annotated[list, add_messages]\\n\\n\\ngraph_builder = StateGraph(State)\\n\\nOur graph can now handle two key tasks:', name='retriever_rag_blogs', tool_call_id='951n4q1qd'), 'The code for StateGraph in LangGraph is: `graph_builder = StateGraph(State)`. This creates a StateGraph object that defines the structure of the chatbot as a \"state machine\". The State includes the graph\\'s schema and reducer functions that handle state updates, in this case, appending new messages to the list instead of overwriting it.']}\n",
      "\n",
      "\n",
      "---QUERY: What is the purpose of LangGraph?---\n",
      "---CALL AGENT---\n",
      "---CHECK RELEVANCE---\n",
      "---DECISION: DOCS NOT RELEVANT---\n",
      "---REWRITE---\n",
      "---CALL AGENT---\n",
      "RESPONSE: {'messages': [HumanMessage(content='What is the purpose of LangGraph?', additional_kwargs={}, response_metadata={}), AIMessage(content='', additional_kwargs={'tool_calls': [{'id': 'cajcz7xpg', 'function': {'arguments': '{\"query\":\"What is the purpose of LangGraph?\"}', 'name': 'retriever_rag_blogs'}, 'type': 'function'}]}, response_metadata={'token_usage': {'completion_tokens': 84, 'prompt_tokens': 1024, 'total_tokens': 1108, 'completion_time': 0.24, 'prompt_time': 0.032348779, 'queue_time': 0.06665563999999999, 'total_time': 0.272348779}, 'model_name': 'llama3-70b-8192', 'system_fingerprint': 'fp_dd4ae1c591', 'finish_reason': 'tool_calls', 'logprobs': None}, id='run--f753e500-41dd-43dc-bb90-ba600c46afdc-0', tool_calls=[{'name': 'retriever_rag_blogs', 'args': {'query': 'What is the purpose of LangGraph?'}, 'id': 'cajcz7xpg', 'type': 'tool_call'}], usage_metadata={'input_tokens': 1024, 'output_tokens': 84, 'total_tokens': 1108}), ToolMessage(content=\"Assistant: LangGraph is a library designed to help build stateful multi-agent applications using language models. It provides tools for creating workflows and state machines to coordinate multiple AI agents or language model interactions. LangGraph is built on top of LangChain, leveraging its components while adding graph-based coordination capabilities. It's particularly useful for developing more complex, stateful AI applications that go beyond simple query-response interactions.\\nGoodbye!\\n\\nCongratulations! You've built your first chatbot using LangGraph. This bot can engage in basic conversation by taking user input and generating responses using an LLM. You can inspect a LangSmith Trace for the call above.\\nBelow is the full code for this tutorial:\\nAPI Reference: init_chat_model | StateGraph | START | END | add_messages\\nfrom typing import Annotated\\n\\nfrom langchain.chat_models import init_chat_model\\nfrom typing_extensions import TypedDict\\n\\nTable of contents\\n    \\n\\n\\n\\n\\n      Learn LangGraph basics\\n    \\n\\n\\n\\n\\n\\n\\n\\n\\n\\n\\n\\n\\n\\n\\nOverview¶\\nLangGraph is built for developers who want to build powerful, adaptable AI agents. Developers choose LangGraph for:\\n\\nReliability and controllability. Steer agent actions with moderation checks and human-in-the-loop approvals. LangGraph persists context for long-running workflows, keeping your agents on course.\\nLow-level and extensible. Build custom agents with fully descriptive, low-level primitives free from rigid abstractions that limit customization. Design scalable multi-agent systems, with each agent serving a specific role tailored to your use case.\\nFirst-class streaming support. With token-by-token streaming and streaming of intermediate steps, LangGraph gives users clear visibility into agent reasoning and actions as they unfold in real time.\\n\\nOverview\\n\\n\\n\\n\\n\\n\\n\\n\\n\\n\\n\\n\\n\\n\\n\\n\\n\\n\\n\\n\\n\\n\\n\\n\\n\\n\\n\\n          Skip to content\\n        \\n\\n\\n\\n\\n\\n\\n\\nWe are growing and hiring for multiple roles for LangChain, LangGraph and LangSmith.  Join our team!\\n\\n\\n\\n\\n\\n\\n\\n\\n\\n\\n\\n\\n\\n\\n\\n\\n\\n            LangGraph\\n          \\n\\n\\n\\n            \\n              Overview\\n            \\n          \\n\\n\\n\\n\\n\\n\\n\\n\\n\\n\\n\\n\\n\\n\\n\\n\\n\\n\\n\\n\\n\\n\\n\\n\\n\\n\\n\\n\\n\\n\\n\\n\\n\\n\\n\\n\\n\\n\\n\\n\\n            Initializing search\\n          \\n\\n\\n\\n\\n\\n\\n\\n\\n\\n\\n\\n\\n    GitHub\\n  \\n\\n\\n\\n\\n\\n\\n\\n\\n\\n\\n          \\n  \\n  \\n    \\n  \\n  Get started\\n\\n        \\n\\n\\n\\n          \\n  \\n  \\n    \\n  \\n  Guides\\n\\n        \\n\\n\\n\\n          \\n  \\n  \\n    \\n  \\n  Reference\\n\\n        \\n\\n\\n\\n          \\n  \\n  \\n    \\n  \\n  Examples\\n\\n        \\n\\n\\n\\n          \\n  \\n  \\n    \\n  \\n  Additional resources\\n\\n        \\n\\n\\n\\n\\n\\n\\n\\n\\n\\n\\n\\n\\n\\n\\n\\n    LangGraph\\n  \\n\\n\\n\\n\\n\\n\\n    GitHub\\n  \\n\\n\\n\\n\\n\\n\\n\\n\\n    Get started\\n    \\n  \\n\\n\\n\\n\\n\\n\\n\\n\\n            Get started\\n          \\n\\n\\n\\n\\n\\n    Quickstarts\\n    \\n  \\n\\n\\n\\n\\n\\n            Quickstarts\\n          \\n\\n\\n\\n\\n    Start with a prebuilt agent\\n    \\n  \\n\\n\\n\\n\\n\\n\\n    Build a custom workflow\\n\\nLearn LangGraph basics¶\\nTo get acquainted with LangGraph's key concepts and features, complete the following LangGraph basics tutorials series:\\n\\nBuild a basic chatbot\\nAdd tools\\nAdd memory\\nAdd human-in-the-loop controls\\nCustomize state\\nTime travel\\n\\nIn completing this series of tutorials, you will build a support chatbot in LangGraph that can:\\n\\n✅ Answer common questions by searching the web\\n✅ Maintain conversation state across calls  \\n✅ Route complex queries to a human for review  \\n✅ Use custom state to control its behavior  \\n✅ Rewind and explore alternative conversation paths  \\n\\n\\n\\n\\n\\n\\n\\n\\n  Back to top\\n\\n\\n\\n\\n\\n\\n\\n\\n\\n\\n                Previous\\n              \\n\\n                Start with a prebuilt agent\\n              \\n\\n\\n\\n\\n\\n                Next\\n              \\n\\n                1. Build a basic chatbot\\n              \\n\\n\\n\\n\\n\\n\\n\\n\\n\\n\\n      Copyright © 2025 LangChain, Inc | Consent Preferences\\n\\n  \\n  \\n    Made with\\n    \\n      Material for MkDocs\", name='retriever_rag_blogs', tool_call_id='cajcz7xpg'), AIMessage(content='Here are a few suggestions to improve the question:\\n\\n1. **Add context**: What is the purpose of LangGraph, and how does it relate to natural language processing or graph databases?\\n2. **Be more specific**: What problem does LangGraph aim to solve, and what benefits does it provide to its users?\\n3. **Show prior research**: I\\'ve come across LangGraph, but I\\'m not clear on its purpose. Can someone explain its main objectives and use cases?\\n4. **Compare to similar tools**: How does LangGraph differ from other graph-based language models, such as [similar tool or technology], and what are its unique advantages?\\n\\nHere\\'s a rewritten version of the question:\\n\\n\"What are the primary objectives and use cases of LangGraph, and how does it contribute to the field of natural language processing or graph databases?\"\\n\\nThis revised question is more specific, shows interest in the topic, and encourages a more detailed and informative response.', additional_kwargs={}, response_metadata={'token_usage': {'completion_tokens': 191, 'prompt_tokens': 23, 'total_tokens': 214, 'completion_time': 0.641930926, 'prompt_time': 0.000334245, 'queue_time': 0.052131925, 'total_time': 0.642265171}, 'model_name': 'llama3-70b-8192', 'system_fingerprint': 'fp_dd4ae1c591', 'finish_reason': 'stop', 'logprobs': None}, id='run--ecfe2619-a34f-4f80-a5e6-24ec127a35ac-0', usage_metadata={'input_tokens': 23, 'output_tokens': 191, 'total_tokens': 214}), AIMessage(content='', additional_kwargs={}, response_metadata={'token_usage': {'completion_tokens': 1, 'prompt_tokens': 1964, 'total_tokens': 1965, 'completion_time': 0.007903797, 'prompt_time': 0.069471583, 'queue_time': -9223372036.924248, 'total_time': 0.07737538}, 'model_name': 'llama3-70b-8192', 'system_fingerprint': 'fp_dd4ae1c591', 'finish_reason': 'stop', 'logprobs': None}, id='run--f627e03a-0efc-4155-8925-70013c81831a-0', usage_metadata={'input_tokens': 1964, 'output_tokens': 1, 'total_tokens': 1965})]}\n",
      "\n"
     ]
    }
   ],
   "source": [
    "for query in [\n",
    "    \"Explain me the code for stategraph in LangGraph\",\n",
    "    \"What is the purpose of LangGraph?\",\n",
    "]:\n",
    "    print(f\"\\n---QUERY: {query}---\")\n",
    "    result = graph.invoke({\"messages\": [HumanMessage(content=query)]})\n",
    "    print(f\"RESPONSE: {result}\\n\")"
   ]
  }
 ],
 "metadata": {
  "kernelspec": {
   "display_name": "Python 3",
   "language": "python",
   "name": "python3"
  },
  "language_info": {
   "codemirror_mode": {
    "name": "ipython",
    "version": 3
   },
   "file_extension": ".py",
   "mimetype": "text/x-python",
   "name": "python",
   "nbconvert_exporter": "python",
   "pygments_lexer": "ipython3",
   "version": "3.12.4"
  }
 },
 "nbformat": 4,
 "nbformat_minor": 5
}
